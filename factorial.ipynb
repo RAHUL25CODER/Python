{
 "cells": [
  {
   "cell_type": "markdown",
   "id": "180d7e0c",
   "metadata": {},
   "source": [
    "\n",
    "* Write a program which can compute the factorial of a given numbers. The results should be printed in a comma-separated * sequence on a single line. Suppose the input is supplied to the program: 8 Then, the output should be: 40320"
   ]
  },
  {
   "cell_type": "code",
   "execution_count": null,
   "id": "b6b642ac",
   "metadata": {},
   "outputs": [],
   "source": [
    "x = int(input(\"enter a number : \"))\n",
    "fac =1\n",
    "for i in range(x,1,-1):\n",
    "    fac = fac*i\n",
    "print(\"factorial :\",fac)"
   ]
  }
 ],
 "metadata": {
  "kernelspec": {
   "display_name": "Python 3 (ipykernel)",
   "language": "python",
   "name": "python3"
  },
  "language_info": {
   "codemirror_mode": {
    "name": "ipython",
    "version": 3
   },
   "file_extension": ".py",
   "mimetype": "text/x-python",
   "name": "python",
   "nbconvert_exporter": "python",
   "pygments_lexer": "ipython3",
   "version": "3.9.12"
  }
 },
 "nbformat": 4,
 "nbformat_minor": 5
}
